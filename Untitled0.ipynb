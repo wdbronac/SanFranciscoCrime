{
 "metadata": {
  "name": ""
 },
 "nbformat": 3,
 "nbformat_minor": 0,
 "worksheets": [
  {
   "cells": [
    {
     "cell_type": "code",
     "collapsed": false,
     "input": [
      "%load cartographie.py"
     ],
     "language": "python",
     "metadata": {},
     "outputs": [],
     "prompt_number": 1
    },
    {
     "cell_type": "code",
     "collapsed": false,
     "input": [
      "import matplotlib.pyplot as plt\n",
      "import numpy as np\n",
      "from mpl_toolkits.basemap import Basemap\n",
      "import csv\n",
      "import pandas as pd\n",
      "import sklearn\n",
      "from sklearn.cluster import KMeans\n",
      "\n",
      "\n",
      "\n",
      "#import some points of the dataset\n",
      "print('Loading the data...')\n",
      "df = pd.read_csv('../data/train.csv')\n",
      "print('Data Loaded.')\n",
      "#df = pd.read_csv('../data/train.csv', nrows = 50000)\n",
      "\n",
      "#LENGTH = 100000\n",
      "LENGTH =df.size \n",
      "print('Pre-processing...\\n')\n",
      "longitudes = df['X'].as_matrix()\n",
      "latitudes = df['Y'].as_matrix()\n",
      "#couleurs = ['r' for _ in range(len(latitudes)) ]\n",
      "#rayons =[30  for _ in range(len(latitudes)) ]\n",
      "\n",
      "\n",
      "#computes the prototypes of kmeans and add it to latitude and longitude\n",
      "print('Geographic clustering...')\n",
      "clus = sklearn.cluster.KMeans(n_clusters = 50)\n",
      "x_train = df[['X','Y']];\n",
      "clus.fit(x_train.as_matrix())\n",
      "clus_long = clus.cluster_centers_[:,0]\n",
      "clus_lat = clus.cluster_centers_[:,1]\n",
      "#create the cluster points and add it to the data\n",
      "new_X = clus.predict(x_train)\n",
      "df['Clus_loc']=new_X\n",
      "print('Clustering finished.')\n",
      "\n",
      "\n",
      "#create vector of colors for the display of the cities\n",
      "#from random import randint\n",
      "#colors = []\n",
      "#for i in range(max(new_X+1)):\n",
      "#  colors.append(\"#%06x\" % randint(0, 0xFFFFFF))\n",
      "#couleurs = [ colors[new_X[i]] for i in range(len(x_train))]\n",
      "#longitudes= np.append(longitudes, clus_long)\n",
      "#latitudes= np.append(latitudes,clus_lat)\n",
      "##couleurs = np.append(couleurs, ['b' for _ in range(len(clus_lat)) ])\n",
      "#rayons =[30  for _ in range(len(clus_lat )) ]"
     ],
     "language": "python",
     "metadata": {},
     "outputs": [
      {
       "output_type": "stream",
       "stream": "stdout",
       "text": [
        "Loading the data...\n",
        "Data Loaded."
       ]
      },
      {
       "output_type": "stream",
       "stream": "stdout",
       "text": [
        "\n",
        "Pre-processing...\n",
        "\n",
        "Geographic clustering...\n",
        "Clustering finished."
       ]
      },
      {
       "output_type": "stream",
       "stream": "stdout",
       "text": [
        "\n",
        "Converting data into standard input"
       ]
      },
      {
       "output_type": "stream",
       "stream": "stdout",
       "text": [
        "\n",
        "Clus_loc...\n",
        "Months..."
       ]
      },
      {
       "output_type": "stream",
       "stream": "stdout",
       "text": [
        "\n",
        "Days..."
       ]
      },
      {
       "output_type": "stream",
       "stream": "stdout",
       "text": [
        "\n",
        "Years..."
       ]
      },
      {
       "output_type": "stream",
       "stream": "stdout",
       "text": [
        "\n",
        "Hours..."
       ]
      },
      {
       "output_type": "stream",
       "stream": "stdout",
       "text": [
        "\n",
        "WeekDay..."
       ]
      },
      {
       "output_type": "stream",
       "stream": "stdout",
       "text": [
        "\n",
        "Data converted\n",
        "Converting label to one hot"
       ]
      },
      {
       "output_type": "stream",
       "stream": "stdout",
       "text": [
        "\n",
        "Done."
       ]
      },
      {
       "output_type": "stream",
       "stream": "stdout",
       "text": [
        "\n",
        "Deleting intermediary objects...\n",
        "Objects deleted\n",
        "Pre-processing finished\n",
        "Creating batches.\n",
        "Fitting : "
       ]
      }
     ],
     "prompt_number": "*"
    },
    {
     "cell_type": "code",
     "collapsed": false,
     "input": [
      "# Cr\u00e9e une projection centr\u00e9e sur San Francisco\n",
      "#frame = ((-122.52, 37.68), (-122.38,37.82))\n",
      "#map = Basemap(\n",
      "#        llcrnrlon=frame[0][0], llcrnrlat=frame[0][1],\n",
      "#        urcrnrlon=frame[1][0], urcrnrlat=frame[1][1],\n",
      "#        epsg=3493)\n",
      "## Charge le plan associ\u00e9 \u00e0 la projection\n",
      "#map.arcgisimage(\n",
      "#        service='ESRI_StreetMap_World_2D',\n",
      "#        xpixels = 1000, verbose= True)\n",
      "## Convertit (long,lat) en position image\n",
      "#(X,Y)=map(longitudes, latitudes)\n",
      "# Appel classique aux fonctions matplotlib\n",
      "#plt.scatter(X, Y, rayons, marker = 'o', color = couleurs,\n",
      "#        alpha = 0.4)\n",
      "# Lance l\u2019affichage\n",
      "#plt.show()\n",
      "\n",
      "\n",
      "\n",
      "#do the learning with a random forest\n",
      "execfile('rf.py')"
     ],
     "language": "python",
     "metadata": {},
     "outputs": []
    },
    {
     "cell_type": "code",
     "collapsed": false,
     "input": [],
     "language": "python",
     "metadata": {},
     "outputs": []
    },
    {
     "cell_type": "code",
     "collapsed": false,
     "input": [],
     "language": "python",
     "metadata": {},
     "outputs": []
    }
   ],
   "metadata": {}
  }
 ]
}