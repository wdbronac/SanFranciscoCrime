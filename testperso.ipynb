{
 "metadata": {
  "name": ""
 },
 "nbformat": 3,
 "nbformat_minor": 0,
 "worksheets": [
  {
   "cells": [
    {
     "cell_type": "code",
     "collapsed": false,
     "input": [
      "%matplotlib inline"
     ],
     "language": "python",
     "metadata": {},
     "outputs": [],
     "prompt_number": 16
    },
    {
     "cell_type": "code",
     "collapsed": false,
     "input": [
      "clear all"
     ],
     "language": "python",
     "metadata": {},
     "outputs": [
      {
       "output_type": "stream",
       "stream": "stdout",
       "text": [
        "\u001b[H\u001b[2J"
       ]
      }
     ],
     "prompt_number": 1
    },
    {
     "cell_type": "code",
     "collapsed": false,
     "input": [
      "import theano\n",
      "import theano.tensor as T\n",
      "import lasagne\n",
      "import time\n",
      "import onehot as oh\n",
      "import matplotlib.pyplot as plt\n",
      "import numpy as np\n",
      "#from mpl_toolkits.basemap import Basemap\n",
      "import csv\n",
      "import pandas as pd\n",
      "import sklearn\n",
      "from sklearn.cluster import KMeans\n",
      "\n",
      "def iterate_minibatches(inputs, targets, batchsize, shuffle=False):\n",
      "    assert len(inputs) == len(targets)\n",
      "    if shuffle:\n",
      "        indices = np.arange(len(inputs))\n",
      "        np.random.shuffle(indices)\n",
      "    for start_idx in range(0, len(inputs) - batchsize + 1, batchsize):\n",
      "        print('test putain de xaxa')\n",
      "        if shuffle:\n",
      "            excerpt = indices[start_idx:start_idx + batchsize]\n",
      "            print('salut bg')\n",
      "        else :\n",
      "            excerpt = slice(start_idx, start_idx + batchsize)\n",
      "        print('test putain de merde')\n",
      "        yield inputs[excerpt], targets[excerpt]\n",
      "\n"
     ],
     "language": "python",
     "metadata": {},
     "outputs": [],
     "prompt_number": 30
    },
    {
     "cell_type": "code",
     "collapsed": false,
     "input": [
      "#defining the parameters of the training\n",
      "batch_size = 500\n",
      "num_classes =39 \n",
      "size_one_hot_district = 4\n",
      "num_epochs = 100\n",
      "#TODO : definir un truc clean pour les inputs genre un truc qui fait bien des inputs, mais qui ne prend que la premiere partie et la met dans geo etc\n",
      "#TODO : faire aussi un truc qui met les categories au bon format\n",
      "# Load the dataset\n",
      "#X_train, y_train, X_val, y_val, X_test, y_test = load_dataset()\n",
      "# Prepare Theano variables for inputs and targets\n",
      "input_var = T.matrix('inputs')\n",
      "target_var = T.ivector('targets')\n",
      "# Create neural network model\n",
      "#import some points of the dataset\n",
      "print('Loading dataset...')\n",
      "df = pd.read_csv('../data/train.csv')\n",
      "print('Dataset loaded.')\n",
      "#convert the date into more precise inputs: \n",
      "print('Converting...')\n",
      "month = oh.take_elems(df['Dates'],5,7)\n",
      "print('Month OK.')\n",
      "day= oh.take_elems(df['Dates'],8,10)\n",
      "print('Day OK.')\n",
      "year= oh.take_elems(df['Dates'],0,4)\n",
      "print('Year OK.')\n",
      "hour= oh.hm_to_seconds(df['Dates'],11)\n",
      "print('Hour OK.')\n",
      "longitudes = df['X'].as_matrix()\n",
      "print('Longitudes OK.')\n",
      "latitudes = df['Y'].as_matrix()\n",
      "print('Latitudes OK.')\n",
      "weekday = oh.one_hot(df['DayOfWeek']) # ca pourrait etre interessant de voir si on codait sous forme ordinale \n",
      "print('DayOfWeek one-hot encoding OK.')\n",
      "district = oh.one_hot(df['PdDistrict']) # ca pourrait etre interessant de voir si on codait sous forme ordinale \n",
      "print('District one-hot encoding OK.')\n",
      "#TODO : see if I add the district with a one hot encoding \n",
      "#\n",
      "## extract the label and convert it into numbers\n",
      "print('Transforming categories into indexes...')\n",
      "df['Category'] = pd.Series(df['Category'], dtype = 'category').cat.rename_categories(range(num_classes))\n",
      "y= df['Category'].values\n",
      "print('Categories transformed into indexes.')\n",
      "\n",
      "print('Creating the input vector...')\n",
      "X = latitudes.reshape(len(latitudes),1) #TODO : verifier que c est bien la bonne shape avec ipython\n",
      "print('Latitudes appended.')\n",
      "X = np.append(X, longitudes.reshape(len(longitudes),1), axis=1)\n",
      "print('Longitudes appended.')\n",
      "X = np.append(X,   month.reshape(len(month),1), axis=1)\n",
      "print('Month appended.')\n",
      "X =np.append(X,   day.reshape(len(day),1), axis=1)\n",
      "print('Day appended.')\n",
      "X = np.append(X,   year.reshape(len(year),1), axis=1)\n",
      "print('Year appended.')\n",
      "X = np.append(X,   hour.reshape(len(hour),1), axis=1)\n",
      "print('Hour appended.')\n",
      "X = np.append(X,   weekday, axis = 1)\n",
      "print('DayOfWeek appended.')\n",
      "X = np.append(X,   district, axis =1 )\n",
      "print('Disctrict appended.')\n",
      "print('Shuffling...')\n",
      "idx = np.arange(X.shape[0])\n",
      "np.random.shuffle(idx)\n",
      "# TODO : mettre les bons indices pour les inputs dans les couches\n",
      "X_current = X[idx] \n",
      "y_current = y[idx] \n",
      "\n",
      "print('Shuffled.')\n",
      "\n",
      "print('Dividing into training and test set...')\n",
      "X_train,X_val = X_current[:0.8*len(X_current)], X_current[0.8*len(X_current):len(X_current)]\n",
      "y_train,y_val = y_current[:0.8*len(y_current)], y_current[0.8*len(y_current):len(y_current)]\n",
      "print('Done.')"
     ],
     "language": "python",
     "metadata": {},
     "outputs": [
      {
       "output_type": "stream",
       "stream": "stdout",
       "text": [
        "Loading dataset...\n",
        "Dataset loaded."
       ]
      },
      {
       "output_type": "stream",
       "stream": "stdout",
       "text": [
        "\n",
        "Converting...\n",
        "Month OK."
       ]
      },
      {
       "output_type": "stream",
       "stream": "stdout",
       "text": [
        "\n",
        "Day OK."
       ]
      },
      {
       "output_type": "stream",
       "stream": "stdout",
       "text": [
        "\n",
        "Year OK."
       ]
      },
      {
       "output_type": "stream",
       "stream": "stdout",
       "text": [
        "\n",
        "Hour OK."
       ]
      },
      {
       "output_type": "stream",
       "stream": "stdout",
       "text": [
        "\n",
        "Longitudes OK.\n",
        "Latitudes OK.\n",
        "DayOfWeek one-hot encoding OK."
       ]
      },
      {
       "output_type": "stream",
       "stream": "stdout",
       "text": [
        "\n",
        "District one-hot encoding OK."
       ]
      },
      {
       "output_type": "stream",
       "stream": "stdout",
       "text": [
        "\n",
        "Transforming categories into indexes...\n",
        "Categories transformed into indexes."
       ]
      },
      {
       "output_type": "stream",
       "stream": "stdout",
       "text": [
        "\n",
        "Creating the input vector...\n",
        "Latitudes appended.\n",
        "Longitudes appended.\n",
        "Month appended.\n",
        "Day appended."
       ]
      },
      {
       "output_type": "stream",
       "stream": "stdout",
       "text": [
        "\n",
        "Year appended.\n",
        "Hour appended."
       ]
      },
      {
       "output_type": "stream",
       "stream": "stdout",
       "text": [
        "\n",
        "DayOfWeek appended."
       ]
      },
      {
       "output_type": "stream",
       "stream": "stdout",
       "text": [
        "\n",
        "Disctrict appended."
       ]
      },
      {
       "output_type": "stream",
       "stream": "stdout",
       "text": [
        "\n",
        "Shuffling...\n",
        "Shuffled."
       ]
      },
      {
       "ename": "SyntaxError",
       "evalue": "'return' outside function (<ipython-input-4-1f2584dc3e53>, line 74)",
       "output_type": "pyerr",
       "traceback": [
        "\u001b[0;36m  File \u001b[0;32m\"<ipython-input-4-1f2584dc3e53>\"\u001b[0;36m, line \u001b[0;32m74\u001b[0m\n\u001b[0;31m    return  X_train, y_train, X_val, y_val\u001b[0m\n\u001b[0;31mSyntaxError\u001b[0m\u001b[0;31m:\u001b[0m 'return' outside function\n"
       ]
      },
      {
       "output_type": "stream",
       "stream": "stdout",
       "text": [
        "\n",
        "Dividing into training and test set...\n",
        "Done.\n"
       ]
      }
     ],
     "prompt_number": 4
    },
    {
     "cell_type": "code",
     "collapsed": false,
     "input": [
      "X_train"
     ],
     "language": "python",
     "metadata": {},
     "outputs": [
      {
       "metadata": {},
       "output_type": "pyout",
       "prompt_number": 5,
       "text": [
        "array([[  37.75308467, -122.41749943,   12.        , ...,    0.        ,\n",
        "           1.        ,    0.        ],\n",
        "       [  37.77816343, -122.41108692,    1.        , ...,    0.        ,\n",
        "           0.        ,    1.        ],\n",
        "       [  37.78334306, -122.41915919,    8.        , ...,    0.        ,\n",
        "           0.        ,    0.        ],\n",
        "       ..., \n",
        "       [  37.7821181 , -122.39684465,   10.        , ...,    0.        ,\n",
        "           0.        ,    1.        ],\n",
        "       [  37.7658511 , -122.41967662,    4.        , ...,    0.        ,\n",
        "           1.        ,    0.        ],\n",
        "       [  37.77825481, -122.40583403,    5.        , ...,    0.        ,\n",
        "           0.        ,    1.        ]])"
       ]
      }
     ],
     "prompt_number": 5
    },
    {
     "cell_type": "code",
     "collapsed": false,
     "input": [
      "#define the inputs of the different perceptrons\n",
      "#input_geo = input_var[0:1] # input_geo: uniquement la latitude et la longitude\n",
      "#input_geo_district = input_var[9:12]\n",
      "#input_date = input_var[2:8]\n",
      "l_in= lasagne.layers.InputLayer(shape = (None,13), input_var = input_var)\n",
      "##build the network connected to the geography input_geo > l_geo_hid2_drop\n",
      "#input layer\n",
      "l_geo_in = lasagne.layers.SliceLayer(l_in, indices=slice(0, 1))\n",
      "#l_geo_in = lasagne.layers.InputLayer(shape = input_geo.shape, input_var = input_geo)\n",
      "l_geo_in_drop = lasagne.layers.DropoutLayer(l_geo_in, p=0.2)\n",
      "#hidden layer\n",
      "l_geo_hid1 = lasagne.layers.DenseLayer(\n",
      "        l_geo_in_drop, num_units=800,\n",
      "        nonlinearity=lasagne.nonlinearities.rectify,\n",
      "        W=lasagne.init.GlorotUniform())\n",
      "l_geo_hid1_drop = lasagne.layers.DropoutLayer(l_geo_hid1, p=0.5)\n",
      "#hidden layer\n",
      "l_geo_hid2= lasagne.layers.DenseLayer(\n",
      "        l_geo_hid1_drop, num_units=800,\n",
      "        nonlinearity=lasagne.nonlinearities.rectify)\n",
      "l_geo_hid2_drop = lasagne.layers.DropoutLayer(l_geo_hid2, p=0.5)\n",
      "\n",
      "##building the network for the district input_geo_district > l_geo_district_hid_2_drop\n",
      "#input layer&\u00e9\n",
      "input_geo_district = lasagne.layers.SliceLayer(l_in, indices=slice(9,12))\n",
      "#l_geo_district_in = lasagne.layers.InputLayer(shape =  input_geo_district.shape, input_var = input_geo_district)\n",
      "#l_geo_district_in_drop = lasagne.layers.DropoutLayer(l_geo_district_in, p=0.2)\n",
      "#hidden layer\n",
      "l_geo_district_hid1 = lasagne.layers.DenseLayer(\n",
      "       # l_geo_district_in_drop, num_units=802,\n",
      "        input_geo_district, num_units=802,\n",
      "        nonlinearity=lasagne.nonlinearities.rectify,\n",
      "        W=lasagne.init.GlorotUniform())\n",
      "l_geo_district_hid1_drop = lasagne.layers.DropoutLayer(l_geo_district_hid1, p=0.5)\n",
      "#hidden layer\n",
      "l_geo_district_hid2= lasagne.layers.DenseLayer(\n",
      "        l_geo_district_hid1_drop, num_units=800,\n",
      "        nonlinearity=lasagne.nonlinearities.rectify)\n",
      "l_geo_district_hid2_drop = lasagne.layers.DropoutLayer(l_geo_district_hid2, p=0.5)\n",
      "\n",
      "\n",
      "#concatenating the layers of both geographic coordinates and district information: (l_geo_hid2_drop, l_date_hid2_drop) = l_tot_in\n",
      "l_geo_tot_in = lasagne.layers.concat([l_geo_district_hid2_drop, l_geo_hid2_drop], axis=1)\n",
      "l_geo_tot_in_drop = lasagne.layers.DropoutLayer(l_geo_tot_in, p=0.2)\n",
      "\n",
      "#build the distributed representation for the geography: l_out_geo\n",
      "l_geo_tot_hid1 = lasagne.layers.DenseLayer(\n",
      "        l_geo_tot_in_drop, num_units=800,\n",
      "        nonlinearity=lasagne.nonlinearities.rectify)\n",
      "l_geo_tot_hid_1_drop = lasagne.layers.DropoutLayer(l_geo_tot_hid1, p=0.5)\n",
      "\n",
      "\n",
      "#TODO : attention j ai ecrit exactement la meme chose ici\n",
      "#build the network connected to the date: l_date_in > l_date_hid2_drop\n",
      "l_date_in = lasagne.layers.SliceLayer(l_in, indices=slice(2,8))\n",
      "l_date_in_drop = lasagne.layers.DropoutLayer(l_date_in, p=0.2)\n",
      "#hidden layer\n",
      "l_date_hid1 = lasagne.layers.DenseLayer(\n",
      "        l_date_in_drop, num_units=800,\n",
      "        nonlinearity=lasagne.nonlinearities.rectify,\n",
      "        W=lasagne.init.GlorotUniform())\n",
      "l_date_hid1_drop = lasagne.layers.DropoutLayer(l_date_hid1, p=0.5)\n",
      "#hidden layer\n",
      "l_date_hid2= lasagne.layers.DenseLayer(\n",
      "        l_date_hid1_drop, num_units=800,\n",
      "        nonlinearity=lasagne.nonlinearities.rectify)\n",
      "l_date_hid2_drop = lasagne.layers.DropoutLayer(l_date_hid2, p=0.5)\n",
      "\n",
      "\n",
      "#concatenating the layers of both geographic and time information: (l_geo_hid2_drop, l_date_hid2_drop) = l_tot_in\n",
      "l_tot_in = lasagne.layers.concat([l_geo_tot_hid_1_drop, l_date_hid2_drop], axis=1)\n",
      "l_tot_in_drop = lasagne.layers.DropoutLayer(l_tot_in, p=0.2)\n",
      "\n",
      "#adding some layers for distributed representations: l_tot_in > l_common_hid2_drop\n",
      "l_common_in = lasagne.layers.DenseLayer(\n",
      "        l_tot_in_drop, num_units=800*2,\n",
      "        nonlinearity=lasagne.nonlinearities.rectify)\n",
      "l_common_in_drop = lasagne.layers.DropoutLayer(l_common_in, p=0.2)\n",
      "#hidden layer\n",
      "l_common_hid1 = lasagne.layers.DenseLayer(\n",
      "        l_common_in_drop, num_units=800,\n",
      "        nonlinearity=lasagne.nonlinearities.rectify,\n",
      "        W=lasagne.init.GlorotUniform())\n",
      "l_common_hid1_drop = lasagne.layers.DropoutLayer(l_common_hid1, p=0.5)\n",
      "#hidden layer\n",
      "l_common_hid2= lasagne.layers.DenseLayer(\n",
      "        l_common_hid1_drop, num_units=800,\n",
      "        nonlinearity=lasagne.nonlinearities.rectify)\n",
      "l_common_hid2_drop = lasagne.layers.DropoutLayer(l_common_hid2, p=0.5)\n",
      "\n",
      "#build the final layer: l_common_hid2drop > l_out: size: the number of classes (because one-hot encoding) \n",
      "l_out = lasagne.layers.DenseLayer(\n",
      "        l_common_hid2_drop, num_units=num_classes,\n",
      "            nonlinearity=lasagne.nonlinearities.softmax)"
     ],
     "language": "python",
     "metadata": {},
     "outputs": [],
     "prompt_number": 62
    },
    {
     "cell_type": "code",
     "collapsed": false,
     "input": [
      "\n",
      "prediction = lasagne.layers.get_output(l_out)\n",
      "loss = lasagne.objectives.categorical_crossentropy(prediction, target_var)\n",
      "loss = loss.mean()\n",
      "\n",
      "params = lasagne.layers.get_all_params(l_out, trainable=True)\n",
      "updates = lasagne.updates.nesterov_momentum(\n",
      "        loss, params, learning_rate=0.01, momentum=0.9)\n",
      "\n",
      "test_prediction = lasagne.layers.get_output(l_out, deterministic=True)\n",
      "test_loss = lasagne.objectives.categorical_crossentropy(test_prediction,\n",
      "        target_var)\n",
      "test_loss = test_loss.mean()\n",
      "test_acc = T.mean(T.eq(T.argmax(test_prediction, axis=1), target_var),dtype=theano.config.floatX)"
     ],
     "language": "python",
     "metadata": {},
     "outputs": [],
     "prompt_number": 63
    },
    {
     "cell_type": "code",
     "collapsed": false,
     "input": [
      "train_fn = theano.function([input_var, target_var], loss, updates=updates)"
     ],
     "language": "python",
     "metadata": {},
     "outputs": [],
     "prompt_number": 64
    },
    {
     "cell_type": "code",
     "collapsed": false,
     "input": [
      "val_fn = theano.function([input_var, target_var], [test_loss, test_acc])"
     ],
     "language": "python",
     "metadata": {},
     "outputs": [],
     "prompt_number": 65
    },
    {
     "cell_type": "code",
     "collapsed": false,
     "input": [
      "print('Test')\n",
      "for epoch in range(num_epochs):\n",
      "    print('Test')\n",
      "    # In each epoch, we do a full pass over the training data:\n",
      "    train_err = 0\n",
      "    train_batches = 0\n",
      "    start_time = time.time()\n",
      "    for batch in iterate_minibatches(X_train, y_train, 500, shuffle=True):\n",
      "        print('Test_iterate_minibatches')\n",
      "        inputs, targets = batch\n",
      "        print('lancement')\n",
      "        train_err += train_fn(inputs, targets)\n",
      "        train_batches += 1\n",
      "        # And a full pass over the validation data:\n",
      "        val_err = 0\n",
      "        val_acc = 0\n",
      "        val_batches = 0\n",
      "    for batch in iterate_minibatches(X_val, y_val, 500, shuffle=False):\n",
      "        inputs, targets = batch\n",
      "        err, acc = val_fn(inputs, targets)\n",
      "        val_err += err\n",
      "        val_acc += acc\n",
      "        val_batches += 1\n",
      "\n",
      "        # Then we print the results for this epoch:\n",
      "        print(\"Epoch {} of {} took {:.3f}s\".format(\n",
      "        epoch + 1, num_epochs, time.time() - start_time))\n",
      "        print(\"  training loss:\\t\\t{:.6f}\".format(train_err / train_batches))\n",
      "        print(\"  validation loss:\\t\\t{:.6f}\".format(val_err / val_batches))\n",
      "        print(\"  validation accuracy:\\t\\t{:.2f} %\".format(\n",
      "            val_acc / val_batches * 100))\n",
      "                "
     ],
     "language": "python",
     "metadata": {},
     "outputs": [
      {
       "output_type": "stream",
       "stream": "stdout",
       "text": [
        "Test\n",
        "Test\n",
        "test putain de xaxa"
       ]
      },
      {
       "output_type": "stream",
       "stream": "stdout",
       "text": [
        "\n",
        "salut bg\n",
        "test putain de merde\n",
        "Test_iterate_minibatches"
       ]
      },
      {
       "output_type": "stream",
       "stream": "stdout",
       "text": [
        "\n",
        "lancement\n",
        "test putain de xaxa"
       ]
      },
      {
       "output_type": "stream",
       "stream": "stdout",
       "text": [
        "\n",
        "salut bg\n",
        "test putain de merde\n",
        "Test_iterate_minibatches\n",
        "lancement\n",
        "test putain de xaxa"
       ]
      },
      {
       "output_type": "stream",
       "stream": "stdout",
       "text": [
        "\n",
        "salut bg\n",
        "test putain de merde\n",
        "Test_iterate_minibatches"
       ]
      },
      {
       "output_type": "stream",
       "stream": "stdout",
       "text": [
        "\n",
        "lancement\n",
        "test putain de xaxa"
       ]
      },
      {
       "output_type": "stream",
       "stream": "stdout",
       "text": [
        "\n",
        "salut bg\n",
        "test putain de merde\n",
        "Test_iterate_minibatches\n",
        "lancement\n",
        "test putain de xaxa"
       ]
      },
      {
       "output_type": "stream",
       "stream": "stdout",
       "text": [
        "\n",
        "salut bg\n",
        "test putain de merde\n",
        "Test_iterate_minibatches\n",
        "lancement\n",
        "test putain de xaxa"
       ]
      },
      {
       "output_type": "stream",
       "stream": "stdout",
       "text": [
        "\n",
        "salut bg\n",
        "test putain de merde\n",
        "Test_iterate_minibatches\n",
        "lancement\n",
        "test putain de xaxa"
       ]
      },
      {
       "output_type": "stream",
       "stream": "stdout",
       "text": [
        "\n",
        "salut bg\n",
        "test putain de merde\n",
        "Test_iterate_minibatches\n",
        "lancement\n",
        "test putain de xaxa"
       ]
      },
      {
       "output_type": "stream",
       "stream": "stdout",
       "text": [
        "\n",
        "salut bg\n",
        "test putain de merde\n",
        "Test_iterate_minibatches\n",
        "lancement\n",
        "test putain de xaxa"
       ]
      },
      {
       "output_type": "stream",
       "stream": "stdout",
       "text": [
        "\n",
        "salut bg\n",
        "test putain de merde\n",
        "Test_iterate_minibatches\n",
        "lancement\n",
        "test putain de xaxa"
       ]
      },
      {
       "output_type": "stream",
       "stream": "stdout",
       "text": [
        "\n",
        "salut bg\n",
        "test putain de merde\n",
        "Test_iterate_minibatches\n",
        "lancement\n",
        "test putain de xaxa"
       ]
      },
      {
       "output_type": "stream",
       "stream": "stdout",
       "text": [
        "\n",
        "salut bg\n",
        "test putain de merde\n",
        "Test_iterate_minibatches\n",
        "lancement\n",
        "test putain de xaxa"
       ]
      },
      {
       "output_type": "stream",
       "stream": "stdout",
       "text": [
        "\n",
        "salut bg\n",
        "test putain de merde\n",
        "Test_iterate_minibatches\n",
        "lancement\n",
        "test putain de xaxa"
       ]
      },
      {
       "output_type": "stream",
       "stream": "stdout",
       "text": [
        "\n",
        "salut bg\n",
        "test putain de merde\n",
        "Test_iterate_minibatches"
       ]
      },
      {
       "output_type": "stream",
       "stream": "stdout",
       "text": [
        "\n",
        "lancement\n",
        "test putain de xaxa"
       ]
      },
      {
       "output_type": "stream",
       "stream": "stdout",
       "text": [
        "\n",
        "salut bg\n",
        "test putain de merde\n",
        "Test_iterate_minibatches"
       ]
      },
      {
       "output_type": "stream",
       "stream": "stdout",
       "text": [
        "\n",
        "lancement\n",
        "test putain de xaxa"
       ]
      },
      {
       "output_type": "stream",
       "stream": "stdout",
       "text": [
        "\n",
        "salut bg\n",
        "test putain de merde\n",
        "Test_iterate_minibatches"
       ]
      },
      {
       "output_type": "stream",
       "stream": "stdout",
       "text": [
        "\n",
        "lancement\n",
        "test putain de xaxa"
       ]
      },
      {
       "output_type": "stream",
       "stream": "stdout",
       "text": [
        "\n",
        "salut bg\n",
        "test putain de merde\n",
        "Test_iterate_minibatches"
       ]
      },
      {
       "output_type": "stream",
       "stream": "stdout",
       "text": [
        "\n",
        "lancement\n",
        "test putain de xaxa"
       ]
      },
      {
       "output_type": "stream",
       "stream": "stdout",
       "text": [
        "\n",
        "salut bg\n",
        "test putain de merde\n",
        "Test_iterate_minibatches\n",
        "lancement\n",
        "test putain de xaxa"
       ]
      },
      {
       "output_type": "stream",
       "stream": "stdout",
       "text": [
        "\n",
        "salut bg\n",
        "test putain de merde\n",
        "Test_iterate_minibatches\n",
        "lancement\n",
        "test putain de xaxa"
       ]
      },
      {
       "output_type": "stream",
       "stream": "stdout",
       "text": [
        "\n",
        "salut bg\n",
        "test putain de merde\n",
        "Test_iterate_minibatches\n",
        "lancement\n",
        "test putain de xaxa"
       ]
      },
      {
       "output_type": "stream",
       "stream": "stdout",
       "text": [
        "\n",
        "salut bg\n",
        "test putain de merde\n",
        "Test_iterate_minibatches\n",
        "lancement\n",
        "test putain de xaxa"
       ]
      },
      {
       "output_type": "stream",
       "stream": "stdout",
       "text": [
        "\n",
        "salut bg\n",
        "test putain de merde\n",
        "Test_iterate_minibatches\n",
        "lancement\n",
        "test putain de xaxa"
       ]
      },
      {
       "output_type": "stream",
       "stream": "stdout",
       "text": [
        "\n",
        "salut bg\n",
        "test putain de merde\n",
        "Test_iterate_minibatches\n",
        "lancement\n",
        "test putain de xaxa"
       ]
      },
      {
       "output_type": "stream",
       "stream": "stdout",
       "text": [
        "\n",
        "salut bg\n",
        "test putain de merde\n",
        "Test_iterate_minibatches\n",
        "lancement\n",
        "test putain de xaxa"
       ]
      },
      {
       "output_type": "stream",
       "stream": "stdout",
       "text": [
        "\n",
        "salut bg\n",
        "test putain de merde\n",
        "Test_iterate_minibatches\n",
        "lancement\n",
        "test putain de xaxa"
       ]
      },
      {
       "output_type": "stream",
       "stream": "stdout",
       "text": [
        "\n",
        "salut bg\n",
        "test putain de merde\n",
        "Test_iterate_minibatches"
       ]
      },
      {
       "output_type": "stream",
       "stream": "stdout",
       "text": [
        "\n",
        "lancement\n",
        "test putain de xaxa"
       ]
      },
      {
       "output_type": "stream",
       "stream": "stdout",
       "text": [
        "\n",
        "salut bg\n",
        "test putain de merde\n",
        "Test_iterate_minibatches\n",
        "lancement\n",
        "test putain de xaxa"
       ]
      },
      {
       "output_type": "stream",
       "stream": "stdout",
       "text": [
        "\n",
        "salut bg\n",
        "test putain de merde\n",
        "Test_iterate_minibatches\n",
        "lancement\n",
        "test putain de xaxa"
       ]
      },
      {
       "output_type": "stream",
       "stream": "stdout",
       "text": [
        "\n",
        "salut bg\n",
        "test putain de merde\n",
        "Test_iterate_minibatches\n",
        "lancement\n",
        "test putain de xaxa"
       ]
      },
      {
       "output_type": "stream",
       "stream": "stdout",
       "text": [
        "\n",
        "salut bg\n",
        "test putain de merde\n",
        "Test_iterate_minibatches\n",
        "lancement\n",
        "test putain de xaxa"
       ]
      },
      {
       "output_type": "stream",
       "stream": "stdout",
       "text": [
        "\n",
        "salut bg\n",
        "test putain de merde\n",
        "Test_iterate_minibatches\n",
        "lancement\n",
        "test putain de xaxa"
       ]
      },
      {
       "output_type": "stream",
       "stream": "stdout",
       "text": [
        "\n",
        "salut bg\n",
        "test putain de merde\n",
        "Test_iterate_minibatches\n",
        "lancement\n",
        "test putain de xaxa"
       ]
      },
      {
       "output_type": "stream",
       "stream": "stdout",
       "text": [
        "\n",
        "salut bg\n",
        "test putain de merde\n",
        "Test_iterate_minibatches"
       ]
      },
      {
       "output_type": "stream",
       "stream": "stdout",
       "text": [
        "\n",
        "lancement\n",
        "test putain de xaxa"
       ]
      },
      {
       "output_type": "stream",
       "stream": "stdout",
       "text": [
        "\n",
        "salut bg\n",
        "test putain de merde\n",
        "Test_iterate_minibatches\n",
        "lancement\n",
        "test putain de xaxa"
       ]
      },
      {
       "output_type": "stream",
       "stream": "stdout",
       "text": [
        "\n",
        "salut bg\n",
        "test putain de merde\n",
        "Test_iterate_minibatches\n",
        "lancement\n",
        "test putain de xaxa"
       ]
      },
      {
       "output_type": "stream",
       "stream": "stdout",
       "text": [
        "\n",
        "salut bg\n",
        "test putain de merde\n",
        "Test_iterate_minibatches\n",
        "lancement\n",
        "test putain de xaxa"
       ]
      },
      {
       "output_type": "stream",
       "stream": "stdout",
       "text": [
        "\n",
        "salut bg\n",
        "test putain de merde\n",
        "Test_iterate_minibatches\n",
        "lancement\n",
        "test putain de xaxa"
       ]
      },
      {
       "output_type": "stream",
       "stream": "stdout",
       "text": [
        "\n",
        "salut bg\n",
        "test putain de merde\n",
        "Test_iterate_minibatches\n",
        "lancement\n",
        "test putain de xaxa"
       ]
      },
      {
       "output_type": "stream",
       "stream": "stdout",
       "text": [
        "\n",
        "salut bg\n",
        "test putain de merde\n",
        "Test_iterate_minibatches\n",
        "lancement\n",
        "test putain de xaxa"
       ]
      },
      {
       "output_type": "stream",
       "stream": "stdout",
       "text": [
        "\n",
        "salut bg\n",
        "test putain de merde\n",
        "Test_iterate_minibatches\n",
        "lancement\n",
        "test putain de xaxa"
       ]
      },
      {
       "output_type": "stream",
       "stream": "stdout",
       "text": [
        "\n",
        "salut bg\n",
        "test putain de merde\n",
        "Test_iterate_minibatches"
       ]
      },
      {
       "output_type": "stream",
       "stream": "stdout",
       "text": [
        "\n",
        "lancement\n",
        "test putain de xaxa"
       ]
      },
      {
       "output_type": "stream",
       "stream": "stdout",
       "text": [
        "\n",
        "salut bg\n",
        "test putain de merde\n",
        "Test_iterate_minibatches\n",
        "lancement\n",
        "test putain de xaxa"
       ]
      },
      {
       "output_type": "stream",
       "stream": "stdout",
       "text": [
        "\n",
        "salut bg\n",
        "test putain de merde\n",
        "Test_iterate_minibatches\n",
        "lancement\n",
        "test putain de xaxa"
       ]
      },
      {
       "output_type": "stream",
       "stream": "stdout",
       "text": [
        "\n",
        "salut bg\n",
        "test putain de merde\n",
        "Test_iterate_minibatches\n",
        "lancement\n",
        "test putain de xaxa"
       ]
      },
      {
       "output_type": "stream",
       "stream": "stdout",
       "text": [
        "\n",
        "salut bg\n",
        "test putain de merde\n",
        "Test_iterate_minibatches\n",
        "lancement\n",
        "test putain de xaxa"
       ]
      },
      {
       "output_type": "stream",
       "stream": "stdout",
       "text": [
        "\n",
        "salut bg\n",
        "test putain de merde\n",
        "Test_iterate_minibatches\n",
        "lancement\n",
        "test putain de xaxa"
       ]
      },
      {
       "output_type": "stream",
       "stream": "stdout",
       "text": [
        "\n",
        "salut bg\n",
        "test putain de merde\n",
        "Test_iterate_minibatches\n",
        "lancement\n",
        "test putain de xaxa"
       ]
      },
      {
       "output_type": "stream",
       "stream": "stdout",
       "text": [
        "\n",
        "salut bg\n",
        "test putain de merde\n",
        "Test_iterate_minibatches\n",
        "lancement\n",
        "test putain de xaxa"
       ]
      },
      {
       "output_type": "stream",
       "stream": "stdout",
       "text": [
        "\n",
        "salut bg\n",
        "test putain de merde\n",
        "Test_iterate_minibatches\n",
        "lancement\n",
        "test putain de xaxa"
       ]
      },
      {
       "output_type": "stream",
       "stream": "stdout",
       "text": [
        "\n",
        "salut bg\n",
        "test putain de merde\n",
        "Test_iterate_minibatches\n",
        "lancement\n",
        "test putain de xaxa"
       ]
      },
      {
       "output_type": "stream",
       "stream": "stdout",
       "text": [
        "\n",
        "salut bg\n",
        "test putain de merde\n",
        "Test_iterate_minibatches\n",
        "lancement\n",
        "test putain de xaxa"
       ]
      },
      {
       "output_type": "stream",
       "stream": "stdout",
       "text": [
        "\n",
        "salut bg\n",
        "test putain de merde\n",
        "Test_iterate_minibatches\n",
        "lancement\n",
        "test putain de xaxa"
       ]
      },
      {
       "output_type": "stream",
       "stream": "stdout",
       "text": [
        "\n",
        "salut bg\n",
        "test putain de merde\n",
        "Test_iterate_minibatches\n",
        "lancement\n",
        "test putain de xaxa"
       ]
      },
      {
       "output_type": "stream",
       "stream": "stdout",
       "text": [
        "\n",
        "salut bg\n",
        "test putain de merde\n",
        "Test_iterate_minibatches\n",
        "lancement\n",
        "test putain de xaxa"
       ]
      },
      {
       "output_type": "stream",
       "stream": "stdout",
       "text": [
        "\n",
        "salut bg\n",
        "test putain de merde\n",
        "Test_iterate_minibatches\n",
        "lancement\n",
        "test putain de xaxa"
       ]
      },
      {
       "output_type": "stream",
       "stream": "stdout",
       "text": [
        "\n",
        "salut bg\n",
        "test putain de merde\n",
        "Test_iterate_minibatches\n",
        "lancement\n",
        "test putain de xaxa"
       ]
      },
      {
       "output_type": "stream",
       "stream": "stdout",
       "text": [
        "\n",
        "salut bg\n",
        "test putain de merde\n",
        "Test_iterate_minibatches\n",
        "lancement\n",
        "test putain de xaxa"
       ]
      },
      {
       "output_type": "stream",
       "stream": "stdout",
       "text": [
        "\n",
        "salut bg\n",
        "test putain de merde\n",
        "Test_iterate_minibatches\n",
        "lancement\n",
        "test putain de xaxa"
       ]
      },
      {
       "output_type": "stream",
       "stream": "stdout",
       "text": [
        "\n",
        "salut bg\n",
        "test putain de merde\n",
        "Test_iterate_minibatches\n",
        "lancement\n",
        "test putain de xaxa"
       ]
      },
      {
       "output_type": "stream",
       "stream": "stdout",
       "text": [
        "\n",
        "salut bg\n",
        "test putain de merde\n",
        "Test_iterate_minibatches\n",
        "lancement\n",
        "test putain de xaxa"
       ]
      },
      {
       "output_type": "stream",
       "stream": "stdout",
       "text": [
        "\n",
        "salut bg\n",
        "test putain de merde\n",
        "Test_iterate_minibatches\n",
        "lancement\n",
        "test putain de xaxa"
       ]
      },
      {
       "output_type": "stream",
       "stream": "stdout",
       "text": [
        "\n",
        "salut bg\n",
        "test putain de merde\n",
        "Test_iterate_minibatches\n",
        "lancement\n",
        "test putain de xaxa"
       ]
      },
      {
       "output_type": "stream",
       "stream": "stdout",
       "text": [
        "\n",
        "salut bg\n",
        "test putain de merde\n",
        "Test_iterate_minibatches\n",
        "lancement\n",
        "test putain de xaxa"
       ]
      },
      {
       "output_type": "stream",
       "stream": "stdout",
       "text": [
        "\n",
        "salut bg\n",
        "test putain de merde\n",
        "Test_iterate_minibatches\n",
        "lancement\n",
        "test putain de xaxa"
       ]
      },
      {
       "output_type": "stream",
       "stream": "stdout",
       "text": [
        "\n",
        "salut bg\n",
        "test putain de merde\n",
        "Test_iterate_minibatches\n",
        "lancement\n",
        "test putain de xaxa"
       ]
      },
      {
       "output_type": "stream",
       "stream": "stdout",
       "text": [
        "\n",
        "salut bg\n",
        "test putain de merde\n",
        "Test_iterate_minibatches\n",
        "lancement\n",
        "test putain de xaxa"
       ]
      },
      {
       "output_type": "stream",
       "stream": "stdout",
       "text": [
        "\n",
        "salut bg\n",
        "test putain de merde\n",
        "Test_iterate_minibatches\n",
        "lancement\n",
        "test putain de xaxa"
       ]
      },
      {
       "output_type": "stream",
       "stream": "stdout",
       "text": [
        "\n",
        "salut bg\n",
        "test putain de merde\n",
        "Test_iterate_minibatches\n",
        "lancement\n",
        "test putain de xaxa"
       ]
      },
      {
       "output_type": "stream",
       "stream": "stdout",
       "text": [
        "\n",
        "salut bg\n",
        "test putain de merde\n",
        "Test_iterate_minibatches\n",
        "lancement\n",
        "test putain de xaxa"
       ]
      },
      {
       "output_type": "stream",
       "stream": "stdout",
       "text": [
        "\n",
        "salut bg\n",
        "test putain de merde\n",
        "Test_iterate_minibatches\n",
        "lancement\n",
        "test putain de xaxa"
       ]
      },
      {
       "output_type": "stream",
       "stream": "stdout",
       "text": [
        "\n",
        "salut bg\n",
        "test putain de merde\n",
        "Test_iterate_minibatches\n",
        "lancement\n",
        "test putain de xaxa"
       ]
      },
      {
       "output_type": "stream",
       "stream": "stdout",
       "text": [
        "\n",
        "salut bg\n",
        "test putain de merde\n",
        "Test_iterate_minibatches\n",
        "lancement\n",
        "test putain de xaxa"
       ]
      },
      {
       "output_type": "stream",
       "stream": "stdout",
       "text": [
        "\n",
        "salut bg\n",
        "test putain de merde\n",
        "Test_iterate_minibatches\n",
        "lancement\n",
        "test putain de xaxa"
       ]
      },
      {
       "output_type": "stream",
       "stream": "stdout",
       "text": [
        "\n",
        "salut bg\n",
        "test putain de merde\n",
        "Test_iterate_minibatches\n",
        "lancement\n",
        "test putain de xaxa"
       ]
      },
      {
       "output_type": "stream",
       "stream": "stdout",
       "text": [
        "\n",
        "salut bg\n",
        "test putain de merde\n",
        "Test_iterate_minibatches\n",
        "lancement\n",
        "test putain de xaxa"
       ]
      },
      {
       "output_type": "stream",
       "stream": "stdout",
       "text": [
        "\n",
        "salut bg\n",
        "test putain de merde\n",
        "Test_iterate_minibatches\n",
        "lancement\n",
        "test putain de xaxa"
       ]
      },
      {
       "output_type": "stream",
       "stream": "stdout",
       "text": [
        "\n",
        "salut bg\n",
        "test putain de merde\n",
        "Test_iterate_minibatches\n",
        "lancement\n",
        "test putain de xaxa"
       ]
      },
      {
       "output_type": "stream",
       "stream": "stdout",
       "text": [
        "\n",
        "salut bg\n",
        "test putain de merde\n",
        "Test_iterate_minibatches\n",
        "lancement\n",
        "test putain de xaxa"
       ]
      },
      {
       "output_type": "stream",
       "stream": "stdout",
       "text": [
        "\n",
        "salut bg\n",
        "test putain de merde\n",
        "Test_iterate_minibatches\n",
        "lancement\n",
        "test putain de xaxa"
       ]
      },
      {
       "output_type": "stream",
       "stream": "stdout",
       "text": [
        "\n",
        "salut bg\n",
        "test putain de merde\n",
        "Test_iterate_minibatches\n",
        "lancement\n",
        "test putain de xaxa"
       ]
      },
      {
       "output_type": "stream",
       "stream": "stdout",
       "text": [
        "\n",
        "salut bg\n",
        "test putain de merde\n",
        "Test_iterate_minibatches\n",
        "lancement\n",
        "test putain de xaxa"
       ]
      },
      {
       "output_type": "stream",
       "stream": "stdout",
       "text": [
        "\n",
        "salut bg\n",
        "test putain de merde\n",
        "Test_iterate_minibatches\n",
        "lancement\n",
        "test putain de xaxa"
       ]
      },
      {
       "output_type": "stream",
       "stream": "stdout",
       "text": [
        "\n",
        "salut bg\n",
        "test putain de merde\n",
        "Test_iterate_minibatches\n",
        "lancement\n",
        "test putain de xaxa"
       ]
      },
      {
       "output_type": "stream",
       "stream": "stdout",
       "text": [
        "\n",
        "salut bg\n",
        "test putain de merde\n",
        "Test_iterate_minibatches\n",
        "lancement\n",
        "test putain de xaxa"
       ]
      },
      {
       "output_type": "stream",
       "stream": "stdout",
       "text": [
        "\n",
        "salut bg\n",
        "test putain de merde\n",
        "Test_iterate_minibatches\n",
        "lancement\n",
        "test putain de xaxa"
       ]
      },
      {
       "output_type": "stream",
       "stream": "stdout",
       "text": [
        "\n",
        "salut bg\n",
        "test putain de merde\n",
        "Test_iterate_minibatches\n",
        "lancement\n",
        "test putain de xaxa"
       ]
      },
      {
       "output_type": "stream",
       "stream": "stdout",
       "text": [
        "\n",
        "salut bg\n",
        "test putain de merde\n",
        "Test_iterate_minibatches\n",
        "lancement\n",
        "test putain de xaxa"
       ]
      },
      {
       "output_type": "stream",
       "stream": "stdout",
       "text": [
        "\n",
        "salut bg\n",
        "test putain de merde\n",
        "Test_iterate_minibatches\n",
        "lancement\n",
        "test putain de xaxa"
       ]
      },
      {
       "output_type": "stream",
       "stream": "stdout",
       "text": [
        "\n",
        "salut bg\n",
        "test putain de merde\n",
        "Test_iterate_minibatches\n",
        "lancement\n",
        "test putain de xaxa"
       ]
      },
      {
       "output_type": "stream",
       "stream": "stdout",
       "text": [
        "\n",
        "salut bg\n",
        "test putain de merde\n",
        "Test_iterate_minibatches\n",
        "lancement\n",
        "test putain de xaxa"
       ]
      },
      {
       "output_type": "stream",
       "stream": "stdout",
       "text": [
        "\n",
        "salut bg\n",
        "test putain de merde\n",
        "Test_iterate_minibatches\n",
        "lancement\n",
        "test putain de xaxa"
       ]
      },
      {
       "output_type": "stream",
       "stream": "stdout",
       "text": [
        "\n",
        "salut bg\n",
        "test putain de merde\n",
        "Test_iterate_minibatches\n",
        "lancement\n",
        "test putain de xaxa"
       ]
      },
      {
       "output_type": "stream",
       "stream": "stdout",
       "text": [
        "\n",
        "salut bg\n",
        "test putain de merde\n",
        "Test_iterate_minibatches\n",
        "lancement\n",
        "test putain de xaxa"
       ]
      },
      {
       "output_type": "stream",
       "stream": "stdout",
       "text": [
        "\n",
        "salut bg\n",
        "test putain de merde\n",
        "Test_iterate_minibatches\n",
        "lancement\n",
        "test putain de xaxa"
       ]
      },
      {
       "output_type": "stream",
       "stream": "stdout",
       "text": [
        "\n",
        "salut bg\n",
        "test putain de merde\n",
        "Test_iterate_minibatches\n",
        "lancement\n",
        "test putain de xaxa"
       ]
      },
      {
       "output_type": "stream",
       "stream": "stdout",
       "text": [
        "\n",
        "salut bg\n",
        "test putain de merde\n",
        "Test_iterate_minibatches\n",
        "lancement\n",
        "test putain de xaxa"
       ]
      },
      {
       "output_type": "stream",
       "stream": "stdout",
       "text": [
        "\n",
        "salut bg\n",
        "test putain de merde\n",
        "Test_iterate_minibatches\n",
        "lancement\n",
        "test putain de xaxa"
       ]
      },
      {
       "output_type": "stream",
       "stream": "stdout",
       "text": [
        "\n",
        "salut bg\n",
        "test putain de merde\n",
        "Test_iterate_minibatches\n",
        "lancement\n",
        "test putain de xaxa"
       ]
      },
      {
       "output_type": "stream",
       "stream": "stdout",
       "text": [
        "\n",
        "salut bg\n",
        "test putain de merde\n",
        "Test_iterate_minibatches\n",
        "lancement\n",
        "test putain de xaxa"
       ]
      },
      {
       "output_type": "stream",
       "stream": "stdout",
       "text": [
        "\n",
        "salut bg\n",
        "test putain de merde\n",
        "Test_iterate_minibatches\n",
        "lancement\n",
        "test putain de xaxa"
       ]
      },
      {
       "output_type": "stream",
       "stream": "stdout",
       "text": [
        "\n",
        "salut bg\n",
        "test putain de merde\n",
        "Test_iterate_minibatches\n",
        "lancement\n",
        "test putain de xaxa"
       ]
      },
      {
       "output_type": "stream",
       "stream": "stdout",
       "text": [
        "\n",
        "salut bg\n",
        "test putain de merde\n",
        "Test_iterate_minibatches\n",
        "lancement\n",
        "test putain de xaxa"
       ]
      },
      {
       "output_type": "stream",
       "stream": "stdout",
       "text": [
        "\n",
        "salut bg\n",
        "test putain de merde\n",
        "Test_iterate_minibatches\n",
        "lancement\n",
        "test putain de xaxa"
       ]
      },
      {
       "output_type": "stream",
       "stream": "stdout",
       "text": [
        "\n",
        "salut bg\n",
        "test putain de merde\n",
        "Test_iterate_minibatches\n",
        "lancement\n",
        "test putain de xaxa"
       ]
      },
      {
       "output_type": "stream",
       "stream": "stdout",
       "text": [
        "\n",
        "salut bg\n",
        "test putain de merde\n",
        "Test_iterate_minibatches\n",
        "lancement\n",
        "test putain de xaxa"
       ]
      },
      {
       "output_type": "stream",
       "stream": "stdout",
       "text": [
        "\n",
        "salut bg\n",
        "test putain de merde\n",
        "Test_iterate_minibatches\n",
        "lancement\n",
        "test putain de xaxa"
       ]
      },
      {
       "output_type": "stream",
       "stream": "stdout",
       "text": [
        "\n",
        "salut bg\n",
        "test putain de merde\n",
        "Test_iterate_minibatches\n",
        "lancement\n",
        "test putain de xaxa"
       ]
      },
      {
       "output_type": "stream",
       "stream": "stdout",
       "text": [
        "\n",
        "salut bg\n",
        "test putain de merde\n",
        "Test_iterate_minibatches\n",
        "lancement\n",
        "test putain de xaxa"
       ]
      },
      {
       "output_type": "stream",
       "stream": "stdout",
       "text": [
        "\n",
        "salut bg\n",
        "test putain de merde\n",
        "Test_iterate_minibatches\n",
        "lancement\n",
        "test putain de xaxa"
       ]
      },
      {
       "output_type": "stream",
       "stream": "stdout",
       "text": [
        "\n",
        "salut bg\n",
        "test putain de merde\n",
        "Test_iterate_minibatches\n",
        "lancement\n",
        "test putain de xaxa"
       ]
      },
      {
       "output_type": "stream",
       "stream": "stdout",
       "text": [
        "\n",
        "salut bg\n",
        "test putain de merde\n",
        "Test_iterate_minibatches\n",
        "lancement\n",
        "test putain de xaxa"
       ]
      },
      {
       "output_type": "stream",
       "stream": "stdout",
       "text": [
        "\n",
        "salut bg\n",
        "test putain de merde\n",
        "Test_iterate_minibatches\n",
        "lancement\n",
        "test putain de xaxa"
       ]
      },
      {
       "output_type": "stream",
       "stream": "stdout",
       "text": [
        "\n",
        "salut bg\n",
        "test putain de merde\n",
        "Test_iterate_minibatches\n",
        "lancement\n",
        "test putain de xaxa"
       ]
      },
      {
       "output_type": "stream",
       "stream": "stdout",
       "text": [
        "\n",
        "salut bg\n",
        "test putain de merde\n",
        "Test_iterate_minibatches\n",
        "lancement\n",
        "test putain de xaxa"
       ]
      },
      {
       "output_type": "stream",
       "stream": "stdout",
       "text": [
        "\n",
        "salut bg\n",
        "test putain de merde\n",
        "Test_iterate_minibatches\n",
        "lancement\n",
        "test putain de xaxa"
       ]
      },
      {
       "output_type": "stream",
       "stream": "stdout",
       "text": [
        "\n",
        "salut bg\n",
        "test putain de merde\n",
        "Test_iterate_minibatches\n",
        "lancement\n",
        "test putain de xaxa"
       ]
      },
      {
       "output_type": "stream",
       "stream": "stdout",
       "text": [
        "\n",
        "salut bg\n",
        "test putain de merde\n",
        "Test_iterate_minibatches\n",
        "lancement\n",
        "test putain de xaxa"
       ]
      },
      {
       "output_type": "stream",
       "stream": "stdout",
       "text": [
        "\n",
        "salut bg\n",
        "test putain de merde\n",
        "Test_iterate_minibatches\n",
        "lancement\n",
        "test putain de xaxa"
       ]
      },
      {
       "output_type": "stream",
       "stream": "stdout",
       "text": [
        "\n",
        "salut bg\n",
        "test putain de merde\n",
        "Test_iterate_minibatches\n",
        "lancement\n",
        "test putain de xaxa"
       ]
      },
      {
       "output_type": "stream",
       "stream": "stdout",
       "text": [
        "\n",
        "salut bg\n",
        "test putain de merde\n",
        "Test_iterate_minibatches\n",
        "lancement\n",
        "test putain de xaxa"
       ]
      },
      {
       "output_type": "stream",
       "stream": "stdout",
       "text": [
        "\n",
        "salut bg\n",
        "test putain de merde\n",
        "Test_iterate_minibatches"
       ]
      },
      {
       "output_type": "stream",
       "stream": "stdout",
       "text": [
        "\n",
        "lancement\n",
        "test putain de xaxa"
       ]
      },
      {
       "output_type": "stream",
       "stream": "stdout",
       "text": [
        "\n",
        "salut bg\n",
        "test putain de merde\n",
        "Test_iterate_minibatches\n",
        "lancement\n",
        "test putain de xaxa"
       ]
      },
      {
       "output_type": "stream",
       "stream": "stdout",
       "text": [
        "\n",
        "salut bg\n",
        "test putain de merde\n",
        "Test_iterate_minibatches"
       ]
      },
      {
       "output_type": "stream",
       "stream": "stdout",
       "text": [
        "\n",
        "lancement\n",
        "test putain de xaxa"
       ]
      },
      {
       "output_type": "stream",
       "stream": "stdout",
       "text": [
        "\n",
        "salut bg\n",
        "test putain de merde\n",
        "Test_iterate_minibatches\n",
        "lancement\n",
        "test putain de xaxa"
       ]
      },
      {
       "output_type": "stream",
       "stream": "stdout",
       "text": [
        "\n",
        "salut bg\n",
        "test putain de merde\n",
        "Test_iterate_minibatches"
       ]
      },
      {
       "output_type": "stream",
       "stream": "stdout",
       "text": [
        "\n",
        "lancement\n",
        "test putain de xaxa"
       ]
      },
      {
       "output_type": "stream",
       "stream": "stdout",
       "text": [
        "\n",
        "salut bg\n",
        "test putain de merde\n",
        "Test_iterate_minibatches"
       ]
      },
      {
       "output_type": "stream",
       "stream": "stdout",
       "text": [
        "\n",
        "lancement\n",
        "test putain de xaxa"
       ]
      },
      {
       "output_type": "stream",
       "stream": "stdout",
       "text": [
        "\n",
        "salut bg\n",
        "test putain de merde\n",
        "Test_iterate_minibatches"
       ]
      },
      {
       "output_type": "stream",
       "stream": "stdout",
       "text": [
        "\n",
        "lancement\n",
        "test putain de xaxa"
       ]
      },
      {
       "output_type": "stream",
       "stream": "stdout",
       "text": [
        "\n",
        "salut bg\n",
        "test putain de merde\n",
        "Test_iterate_minibatches\n",
        "lancement\n",
        "test putain de xaxa"
       ]
      },
      {
       "output_type": "stream",
       "stream": "stdout",
       "text": [
        "\n",
        "salut bg\n",
        "test putain de merde\n",
        "Test_iterate_minibatches\n",
        "lancement\n",
        "test putain de xaxa"
       ]
      },
      {
       "output_type": "stream",
       "stream": "stdout",
       "text": [
        "\n",
        "salut bg\n",
        "test putain de merde\n",
        "Test_iterate_minibatches\n",
        "lancement\n",
        "test putain de xaxa"
       ]
      },
      {
       "output_type": "stream",
       "stream": "stdout",
       "text": [
        "\n",
        "salut bg\n",
        "test putain de merde\n",
        "Test_iterate_minibatches\n",
        "lancement\n",
        "test putain de xaxa"
       ]
      },
      {
       "output_type": "stream",
       "stream": "stdout",
       "text": [
        "\n",
        "salut bg\n",
        "test putain de merde\n",
        "Test_iterate_minibatches\n",
        "lancement\n",
        "test putain de xaxa"
       ]
      },
      {
       "output_type": "stream",
       "stream": "stdout",
       "text": [
        "\n",
        "salut bg\n",
        "test putain de merde\n",
        "Test_iterate_minibatches"
       ]
      },
      {
       "output_type": "stream",
       "stream": "stdout",
       "text": [
        "\n",
        "lancement\n",
        "test putain de xaxa"
       ]
      },
      {
       "output_type": "stream",
       "stream": "stdout",
       "text": [
        "\n",
        "salut bg\n",
        "test putain de merde\n",
        "Test_iterate_minibatches\n",
        "lancement\n",
        "test putain de xaxa"
       ]
      },
      {
       "output_type": "stream",
       "stream": "stdout",
       "text": [
        "\n",
        "salut bg\n",
        "test putain de merde\n",
        "Test_iterate_minibatches\n",
        "lancement\n",
        "test putain de xaxa"
       ]
      },
      {
       "output_type": "stream",
       "stream": "stdout",
       "text": [
        "\n",
        "salut bg\n",
        "test putain de merde\n",
        "Test_iterate_minibatches\n",
        "lancement\n",
        "test putain de xaxa"
       ]
      },
      {
       "ename": "KeyboardInterrupt",
       "evalue": "",
       "output_type": "pyerr",
       "traceback": [
        "\u001b[0;31m---------------------------------------------------------------------------\u001b[0m\n\u001b[0;31mKeyboardInterrupt\u001b[0m                         Traceback (most recent call last)",
        "\u001b[0;32m<ipython-input-66-a98250ddb2a3>\u001b[0m in \u001b[0;36m<module>\u001b[0;34m()\u001b[0m\n\u001b[1;32m     10\u001b[0m         \u001b[0minputs\u001b[0m\u001b[0;34m,\u001b[0m \u001b[0mtargets\u001b[0m \u001b[0;34m=\u001b[0m \u001b[0mbatch\u001b[0m\u001b[0;34m\u001b[0m\u001b[0m\n\u001b[1;32m     11\u001b[0m         \u001b[0;32mprint\u001b[0m\u001b[0;34m(\u001b[0m\u001b[0;34m'lancement'\u001b[0m\u001b[0;34m)\u001b[0m\u001b[0;34m\u001b[0m\u001b[0m\n\u001b[0;32m---> 12\u001b[0;31m         \u001b[0mtrain_err\u001b[0m \u001b[0;34m+=\u001b[0m \u001b[0mtrain_fn\u001b[0m\u001b[0;34m(\u001b[0m\u001b[0minputs\u001b[0m\u001b[0;34m,\u001b[0m \u001b[0mtargets\u001b[0m\u001b[0;34m)\u001b[0m\u001b[0;34m\u001b[0m\u001b[0m\n\u001b[0m\u001b[1;32m     13\u001b[0m         \u001b[0mtrain_batches\u001b[0m \u001b[0;34m+=\u001b[0m \u001b[0;36m1\u001b[0m\u001b[0;34m\u001b[0m\u001b[0m\n\u001b[1;32m     14\u001b[0m         \u001b[0;31m# And a full pass over the validation data:\u001b[0m\u001b[0;34m\u001b[0m\u001b[0;34m\u001b[0m\u001b[0m\n",
        "\u001b[0;32m/usr/local/lib/python2.7/dist-packages/theano/compile/function_module.pyc\u001b[0m in \u001b[0;36m__call__\u001b[0;34m(self, *args, **kwargs)\u001b[0m\n\u001b[1;32m    605\u001b[0m         \u001b[0mt0_fn\u001b[0m \u001b[0;34m=\u001b[0m \u001b[0mtime\u001b[0m\u001b[0;34m.\u001b[0m\u001b[0mtime\u001b[0m\u001b[0;34m(\u001b[0m\u001b[0;34m)\u001b[0m\u001b[0;34m\u001b[0m\u001b[0m\n\u001b[1;32m    606\u001b[0m         \u001b[0;32mtry\u001b[0m\u001b[0;34m:\u001b[0m\u001b[0;34m\u001b[0m\u001b[0m\n\u001b[0;32m--> 607\u001b[0;31m             \u001b[0moutputs\u001b[0m \u001b[0;34m=\u001b[0m \u001b[0mself\u001b[0m\u001b[0;34m.\u001b[0m\u001b[0mfn\u001b[0m\u001b[0;34m(\u001b[0m\u001b[0;34m)\u001b[0m\u001b[0;34m\u001b[0m\u001b[0m\n\u001b[0m\u001b[1;32m    608\u001b[0m         \u001b[0;32mexcept\u001b[0m \u001b[0mException\u001b[0m\u001b[0;34m:\u001b[0m\u001b[0;34m\u001b[0m\u001b[0m\n\u001b[1;32m    609\u001b[0m             \u001b[0;32mif\u001b[0m \u001b[0mhasattr\u001b[0m\u001b[0;34m(\u001b[0m\u001b[0mself\u001b[0m\u001b[0;34m.\u001b[0m\u001b[0mfn\u001b[0m\u001b[0;34m,\u001b[0m \u001b[0;34m'position_of_error'\u001b[0m\u001b[0;34m)\u001b[0m\u001b[0;34m:\u001b[0m\u001b[0;34m\u001b[0m\u001b[0m\n",
        "\u001b[0;32m/usr/local/lib/python2.7/dist-packages/theano/gof/op.pyc\u001b[0m in \u001b[0;36mrval\u001b[0;34m(p, i, o, n)\u001b[0m\n\u001b[1;32m    758\u001b[0m         \u001b[0;32mif\u001b[0m \u001b[0mctx\u001b[0m \u001b[0;32mis\u001b[0m \u001b[0mgraph\u001b[0m\u001b[0;34m.\u001b[0m\u001b[0mNoContext\u001b[0m\u001b[0;34m:\u001b[0m\u001b[0;34m\u001b[0m\u001b[0m\n\u001b[1;32m    759\u001b[0m             \u001b[0;31m# default arguments are stored in the closure of `rval`\u001b[0m\u001b[0;34m\u001b[0m\u001b[0;34m\u001b[0m\u001b[0m\n\u001b[0;32m--> 760\u001b[0;31m             \u001b[0;32mdef\u001b[0m \u001b[0mrval\u001b[0m\u001b[0;34m(\u001b[0m\u001b[0mp\u001b[0m\u001b[0;34m=\u001b[0m\u001b[0mp\u001b[0m\u001b[0;34m,\u001b[0m \u001b[0mi\u001b[0m\u001b[0;34m=\u001b[0m\u001b[0mnode_input_storage\u001b[0m\u001b[0;34m,\u001b[0m \u001b[0mo\u001b[0m\u001b[0;34m=\u001b[0m\u001b[0mnode_output_storage\u001b[0m\u001b[0;34m,\u001b[0m \u001b[0mn\u001b[0m\u001b[0;34m=\u001b[0m\u001b[0mnode\u001b[0m\u001b[0;34m)\u001b[0m\u001b[0;34m:\u001b[0m\u001b[0;34m\u001b[0m\u001b[0m\n\u001b[0m\u001b[1;32m    761\u001b[0m                 \u001b[0mr\u001b[0m \u001b[0;34m=\u001b[0m \u001b[0mp\u001b[0m\u001b[0;34m(\u001b[0m\u001b[0mn\u001b[0m\u001b[0;34m,\u001b[0m \u001b[0;34m[\u001b[0m\u001b[0mx\u001b[0m\u001b[0;34m[\u001b[0m\u001b[0;36m0\u001b[0m\u001b[0;34m]\u001b[0m \u001b[0;32mfor\u001b[0m \u001b[0mx\u001b[0m \u001b[0;32min\u001b[0m \u001b[0mi\u001b[0m\u001b[0;34m]\u001b[0m\u001b[0;34m,\u001b[0m \u001b[0mo\u001b[0m\u001b[0;34m)\u001b[0m\u001b[0;34m\u001b[0m\u001b[0m\n\u001b[1;32m    762\u001b[0m                 \u001b[0;32mfor\u001b[0m \u001b[0mo\u001b[0m \u001b[0;32min\u001b[0m \u001b[0mnode\u001b[0m\u001b[0;34m.\u001b[0m\u001b[0moutputs\u001b[0m\u001b[0;34m:\u001b[0m\u001b[0;34m\u001b[0m\u001b[0m\n",
        "\u001b[0;31mKeyboardInterrupt\u001b[0m: "
       ]
      },
      {
       "output_type": "stream",
       "stream": "stdout",
       "text": [
        "\n",
        "salut bg\n",
        "test putain de merde\n",
        "Test_iterate_minibatches\n",
        "lancement\n"
       ]
      }
     ],
     "prompt_number": 66
    },
    {
     "cell_type": "code",
     "collapsed": false,
     "input": [
      "input_date"
     ],
     "language": "python",
     "metadata": {},
     "outputs": [
      {
       "metadata": {},
       "output_type": "pyout",
       "prompt_number": 18,
       "text": [
        "Subtensor{int64:int64:}.0"
       ]
      }
     ],
     "prompt_number": 18
    },
    {
     "cell_type": "code",
     "collapsed": false,
     "input": [
      "X_train"
     ],
     "language": "python",
     "metadata": {},
     "outputs": [
      {
       "metadata": {},
       "output_type": "pyout",
       "prompt_number": 44,
       "text": [
        "array([[  37.75308467, -122.41749943,   12.        , ...,    0.        ,\n",
        "           1.        ,    0.        ],\n",
        "       [  37.77816343, -122.41108692,    1.        , ...,    0.        ,\n",
        "           0.        ,    1.        ],\n",
        "       [  37.78334306, -122.41915919,    8.        , ...,    0.        ,\n",
        "           0.        ,    0.        ],\n",
        "       ..., \n",
        "       [  37.7821181 , -122.39684465,   10.        , ...,    0.        ,\n",
        "           0.        ,    1.        ],\n",
        "       [  37.7658511 , -122.41967662,    4.        , ...,    0.        ,\n",
        "           1.        ,    0.        ],\n",
        "       [  37.77825481, -122.40583403,    5.        , ...,    0.        ,\n",
        "           0.        ,    1.        ]])"
       ]
      }
     ],
     "prompt_number": 44
    },
    {
     "cell_type": "code",
     "collapsed": false,
     "input": [],
     "language": "python",
     "metadata": {},
     "outputs": [],
     "prompt_number": 14
    },
    {
     "cell_type": "code",
     "collapsed": false,
     "input": [],
     "language": "python",
     "metadata": {},
     "outputs": [],
     "prompt_number": 14
    },
    {
     "cell_type": "code",
     "collapsed": false,
     "input": [],
     "language": "python",
     "metadata": {},
     "outputs": [],
     "prompt_number": 14
    },
    {
     "cell_type": "code",
     "collapsed": false,
     "input": [],
     "language": "python",
     "metadata": {},
     "outputs": []
    }
   ],
   "metadata": {}
  }
 ]
}