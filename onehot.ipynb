{
 "metadata": {
  "name": ""
 },
 "nbformat": 3,
 "nbformat_minor": 0,
 "worksheets": [
  {
   "cells": [
    {
     "cell_type": "code",
     "collapsed": false,
     "input": [
      "import numpy as np\n",
      "def one_hot(df):\n",
      "  \"\"\"\n",
      "  Fonction qui transforme un dataserie en one hot encoding. Pourrait surement etre optimise.\n",
      "  \"\"\"\n",
      "  vec = df.unique()\n",
      "  total = np.zeros((df.shape[0],len(vec)))\n",
      "  for i in range(df.size):\n",
      "    index = np.where(vec == df[i])\n",
      "    total[i,index] = 1\n",
      "  return total\n",
      "\n",
      "\n",
      "def take_elems(df, a, b):\n",
      "  \"\"\"\n",
      "  df is a data serie of dates, so that we can take only some parts of the date, between a and b (for instance only the hour)\n",
      "  \"\"\"\n",
      "  total = np.zeros(df.shape[0])\n",
      "  for i in range(df.shape[0]) :\n",
      "    total[i]  = float(df[i][a:b])\n",
      "  return total\n",
      "\n",
      "\n",
      "\n",
      "def hm_to_seconds(df, a):\n",
      "  \"\"\"\n",
      "  this is more or less the same than take_elems, but what is more it converts an hour into a count of minutes here, no b because the hour is at the end of the array\n",
      "  \"\"\"\n",
      "\n",
      "  total = np.zeros(df.shape[0])\n",
      "  for i in range(df.shape[0]): \n",
      "    t = df[i][a:]\n",
      "    h, m,s = [int(k) for k in t.split(':')]\n",
      "    total[i]  = float(3600*h + 60*m + s)\n",
      "  return total"
     ],
     "language": "python",
     "metadata": {},
     "outputs": []
    }
   ],
   "metadata": {}
  }
 ]
}